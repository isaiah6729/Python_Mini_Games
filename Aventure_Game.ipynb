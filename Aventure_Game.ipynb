{
 "cells": [
  {
   "cell_type": "code",
   "execution_count": 1,
   "id": "1374a230",
   "metadata": {},
   "outputs": [
    {
     "name": "stdout",
     "output_type": "stream",
     "text": [
      "type your name isaiah\n",
      "welcome isaiah\n"
     ]
    }
   ],
   "source": [
    "name = input(\"type your name \")\n",
    "print(\"welcome\", name)"
   ]
  },
  {
   "cell_type": "code",
   "execution_count": 2,
   "id": "f6a290e0",
   "metadata": {},
   "outputs": [
    {
     "name": "stdout",
     "output_type": "stream",
     "text": [
      "where would you like to go isaiah ?  downtown\n"
     ]
    }
   ],
   "source": [
    "answer = input(\"where would you like to go \" + str(name) + \" ?  \")"
   ]
  },
  {
   "cell_type": "code",
   "execution_count": 3,
   "id": "ea0d37a8",
   "metadata": {},
   "outputs": [
    {
     "name": "stdout",
     "output_type": "stream",
     "text": [
      "downtown\n"
     ]
    }
   ],
   "source": [
    "print(answer)"
   ]
  },
  {
   "cell_type": "code",
   "execution_count": 4,
   "id": "a0b80c69",
   "metadata": {},
   "outputs": [
    {
     "name": "stdout",
     "output_type": "stream",
     "text": [
      "oh you want: sex, drugs, dancing or something else?  sex\n"
     ]
    }
   ],
   "source": [
    "if answer == \"downtown\":\n",
    "    downtown = input(\"oh you want: sex, drugs, dancing or something else?  \")"
   ]
  },
  {
   "cell_type": "code",
   "execution_count": 6,
   "id": "7f9eb2e6",
   "metadata": {},
   "outputs": [
    {
     "name": "stdout",
     "output_type": "stream",
     "text": [
      "i knew it. You have come to the right place. What do you want? Dominican? Puerto Rican?  dominican\n"
     ]
    }
   ],
   "source": [
    "if downtown.lower() == \"sex\":\n",
    "    sex = input(\"i knew it. You have come to the right place. What do you want? Dominican? Puerto Rican?  \")"
   ]
  },
  {
   "cell_type": "code",
   "execution_count": null,
   "id": "30b19c06",
   "metadata": {},
   "outputs": [],
   "source": []
  }
 ],
 "metadata": {
  "kernelspec": {
   "display_name": "Python 3 (ipykernel)",
   "language": "python",
   "name": "python3"
  },
  "language_info": {
   "codemirror_mode": {
    "name": "ipython",
    "version": 3
   },
   "file_extension": ".py",
   "mimetype": "text/x-python",
   "name": "python",
   "nbconvert_exporter": "python",
   "pygments_lexer": "ipython3",
   "version": "3.10.9"
  }
 },
 "nbformat": 4,
 "nbformat_minor": 5
}
