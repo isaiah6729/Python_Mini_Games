{
 "cells": [
  {
   "cell_type": "code",
   "execution_count": 27,
   "id": "21c7d83c",
   "metadata": {},
   "outputs": [
    {
     "name": "stdout",
     "output_type": "stream",
     "text": [
      "welcome to the game\n"
     ]
    }
   ],
   "source": [
    "print(\"welcome to the game\")"
   ]
  },
  {
   "cell_type": "code",
   "execution_count": 28,
   "id": "c892de8d",
   "metadata": {},
   "outputs": [
    {
     "name": "stdout",
     "output_type": "stream",
     "text": [
      "Do you want to play?  yes\n"
     ]
    }
   ],
   "source": [
    "playing = input(\"Do you want to play?  \")"
   ]
  },
  {
   "cell_type": "code",
   "execution_count": 29,
   "id": "ca6f1b44",
   "metadata": {},
   "outputs": [],
   "source": [
    "if playing != \"yes\":\n",
    "    quit();"
   ]
  },
  {
   "cell_type": "code",
   "execution_count": 30,
   "id": "d15e3103",
   "metadata": {},
   "outputs": [
    {
     "name": "stdout",
     "output_type": "stream",
     "text": [
      "let's play\n"
     ]
    }
   ],
   "source": [
    "print(\"let's play\")"
   ]
  },
  {
   "cell_type": "code",
   "execution_count": 32,
   "id": "7450c03d",
   "metadata": {},
   "outputs": [
    {
     "name": "stdout",
     "output_type": "stream",
     "text": [
      "what does cpu stand for?  me\n",
      "no\n",
      "you got 0 correctly\n"
     ]
    }
   ],
   "source": [
    "answer = input(\"what does cpu stand for?  \")\n",
    "\n",
    "score = 0;\n",
    "\n",
    "if answer.lower() == \"central processing unit\":\n",
    "    print(\"yay\")\n",
    "    score = score + 1;\n",
    "else:\n",
    "    print(\"no\")\n",
    "\n",
    "print(\"you got \" + str(score) + \" correctly\")"
   ]
  },
  {
   "cell_type": "code",
   "execution_count": null,
   "id": "572ec5a4",
   "metadata": {},
   "outputs": [],
   "source": []
  }
 ],
 "metadata": {
  "kernelspec": {
   "display_name": "Python 3 (ipykernel)",
   "language": "python",
   "name": "python3"
  },
  "language_info": {
   "codemirror_mode": {
    "name": "ipython",
    "version": 3
   },
   "file_extension": ".py",
   "mimetype": "text/x-python",
   "name": "python",
   "nbconvert_exporter": "python",
   "pygments_lexer": "ipython3",
   "version": "3.10.9"
  }
 },
 "nbformat": 4,
 "nbformat_minor": 5
}
