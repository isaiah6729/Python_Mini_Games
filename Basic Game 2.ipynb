{
 "cells": [
  {
   "cell_type": "code",
   "execution_count": 68,
   "id": "c14192c9",
   "metadata": {},
   "outputs": [
    {
     "name": "stdout",
     "output_type": "stream",
     "text": [
      "type in a number  5\n",
      "5\n"
     ]
    }
   ],
   "source": [
    "top_of_range = input(\"type in a number  \")\n",
    "\n",
    "if top_of_range.isdigit():\n",
    "    \n",
    "    top_of_range = int(top_of_range);\n",
    "    \n",
    "    if top_of_range > 0:\n",
    "        print(top_of_range)\n",
    "        \n",
    "    else:\n",
    "         print(\"not greater than 0\")\n",
    "        \n",
    "else:\n",
    "    print(top_of_range + \" is not a number\")"
   ]
  },
  {
   "cell_type": "code",
   "execution_count": 69,
   "id": "f7c886f6",
   "metadata": {},
   "outputs": [
    {
     "name": "stdout",
     "output_type": "stream",
     "text": [
      "What do you think the guess is? 1\n",
      "keep going\n",
      "you're below\n",
      "What do you think the guess is? 2\n",
      "keep going\n",
      "you're below\n",
      "What do you think the guess is? 3\n",
      "dang you got it\n",
      "it took you  3  guesses\n"
     ]
    }
   ],
   "source": [
    "import random\n",
    "\n",
    "guesses = 1;\n",
    "\n",
    "ran = random.randint(0,top_of_range);\n",
    "\n",
    "while True:\n",
    "    \n",
    "    guess = input(\"What do you think the guess is? \")\n",
    "    \n",
    "    if guess.isdigit():\n",
    "        \n",
    "        guess = int(guess);\n",
    "        \n",
    "    else:\n",
    "        print(\"that is not a number\")\n",
    "        continue\n",
    "        \n",
    "    if guess == ran:\n",
    "        print(\"dang you got it\")\n",
    "        break\n",
    "    \n",
    "    else:\n",
    "        print(\"keep going\")\n",
    "        guesses = guesses + 1;\n",
    "        if guess > ran:\n",
    "            print(\"you're above\")\n",
    "        else:\n",
    "            print(\"you're below\")\n",
    "\n",
    "print(\"it took you \",  guesses,  \" guesses\")"
   ]
  }
 ],
 "metadata": {
  "kernelspec": {
   "display_name": "Python 3 (ipykernel)",
   "language": "python",
   "name": "python3"
  },
  "language_info": {
   "codemirror_mode": {
    "name": "ipython",
    "version": 3
   },
   "file_extension": ".py",
   "mimetype": "text/x-python",
   "name": "python",
   "nbconvert_exporter": "python",
   "pygments_lexer": "ipython3",
   "version": "3.10.9"
  }
 },
 "nbformat": 4,
 "nbformat_minor": 5
}
