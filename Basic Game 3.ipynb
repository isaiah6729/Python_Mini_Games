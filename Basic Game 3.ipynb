{
 "cells": [
  {
   "cell_type": "code",
   "execution_count": 2,
   "id": "a7b3ea1f",
   "metadata": {},
   "outputs": [
    {
     "name": "stdout",
     "output_type": "stream",
     "text": [
      "type rock paper scissors or q :   rock\n",
      "rock\n",
      "scissors\n",
      "you win\n",
      "the cpu won  0\n"
     ]
    }
   ],
   "source": [
    "import random\n",
    "\n",
    "user_wins = 0;\n",
    "cpu_wins = 0;\n",
    "\n",
    "options =  [\"rock\",\"paper\",\"scissors\"]\n",
    "\n",
    "while True:\n",
    "    \n",
    "    userinput = input(\"type rock paper scissors or q :   \")\n",
    "    \n",
    "    if userinput == \"q\":\n",
    "  #      quit()\n",
    "        break;\n",
    "        \n",
    "    if userinput.lower() in options:\n",
    "        \n",
    "        print(userinput)\n",
    "        \n",
    "        ran = random.randint(0,2)\n",
    "        \n",
    "        computer = options[ran]\n",
    "        \n",
    "        print(computer)\n",
    "       \n",
    "        if userinput == \"rock\" and computer == \"scissors\":\n",
    "            print(\"you win\")\n",
    "            print(\"the cpu won \", cpu_wins)\n",
    "            break\n",
    "        \n",
    "        elif userinput == \"paper\" and computer == \"rock\":\n",
    "            print(\"you win\")\n",
    "            print(\"the cpu won \", cpu_wins)\n",
    "            break\n",
    "        \n",
    "        elif userinput == \"scissors\" and computer == \"paper\":\n",
    "            print(\"you win\")\n",
    "            print(\"the cpu won \", cpu_wins)\n",
    "            break\n",
    "            \n",
    "        elif userinput == \"rock\" and computer == \"rock\":\n",
    "            print(\"draw\")\n",
    "            print(\"the cpu won \", cpu_wins)\n",
    "            continue\n",
    "        \n",
    "        else:\n",
    "            print(\"cpu wins\")\n",
    "            cpu_wins = cpu_wins + 1;\n",
    "            \n",
    "    else:\n",
    "        print(\"retry\")\n",
    "        continue"
   ]
  },
  {
   "cell_type": "code",
   "execution_count": null,
   "id": "de49ecd0",
   "metadata": {},
   "outputs": [],
   "source": []
  }
 ],
 "metadata": {
  "kernelspec": {
   "display_name": "Python 3 (ipykernel)",
   "language": "python",
   "name": "python3"
  },
  "language_info": {
   "codemirror_mode": {
    "name": "ipython",
    "version": 3
   },
   "file_extension": ".py",
   "mimetype": "text/x-python",
   "name": "python",
   "nbconvert_exporter": "python",
   "pygments_lexer": "ipython3",
   "version": "3.10.9"
  }
 },
 "nbformat": 4,
 "nbformat_minor": 5
}
