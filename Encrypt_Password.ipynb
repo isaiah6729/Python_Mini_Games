{
 "cells": [
  {
   "cell_type": "code",
   "execution_count": 2,
   "id": "31d39af5",
   "metadata": {},
   "outputs": [
    {
     "name": "stdout",
     "output_type": "stream",
     "text": [
      "whats the password doc? isaiah\n"
     ]
    }
   ],
   "source": [
    "from cryptography.fernet import Fernet\n",
    "\n",
    "master_pwd = input(\"whats the password doc? \")\n",
    "\n",
    "def create_key():\n",
    "    \n",
    "    key = Fernet.generate_key()\n",
    "    \n",
    "    keyfile = open(\"key.key\", \"wb\");\n",
    "    keyfile.write(key)\n",
    "    keyfile.close   \n",
    "    \n",
    "\n",
    "def get_key():\n",
    "    \n",
    "    keyfileagain = open(\"key.key\", \"rb\");\n",
    "    key = keyfileagain.read()\n",
    "    keyfileagain.close()\n",
    "    return key\n",
    "\n",
    "\n",
    "#key = get_key()\n",
    "fercode = Fernet(get_key())\n",
    "\n",
    "def view():\n",
    "    \n",
    "    file = open(\"password.txt\", \"r\")\n",
    "    for n in file.readlines():\n",
    "        print(n.strip().split(\"|\"));\n",
    "        user, passwd = n.strip().split(\"|\")\n",
    "   \n",
    "        print(\"username: \", user, \" password: \", fercode.decrypt(passwd.encode()).decode())\n",
    "    file.close\n",
    "\n",
    "def add():\n",
    "    \n",
    "    name = input(\"account name: \")\n",
    "    pwd = input(\"password name: \")\n",
    "\n",
    "    with open(\"password.txt\", \"w\") as file:\n",
    "        file.write(name + \"|\" + fercode.encrypt(pwd.encode()).decode() + \"\\n\")\n",
    "   "
   ]
  },
  {
   "cell_type": "code",
   "execution_count": 3,
   "id": "11720783",
   "metadata": {},
   "outputs": [
    {
     "name": "stdout",
     "output_type": "stream",
     "text": [
      "new password or see exisiting one? add\n",
      "account name: name\n",
      "password name: two\n",
      "new password or see exisiting one? view\n",
      "['name', 'gAAAAABk0-otkaQ0T8_4Z-gi-slDp-Pypg3bHmMf2x1N06sunXPog0dprIx-KnYsDF8ptA7tE-yBETvUTXVQEhlP65IQfj2nbg==']\n",
      "username:  name  password:  two\n"
     ]
    }
   ],
   "source": [
    "while True:\n",
    "    mode = input(\"new password or see exisiting one? \")\n",
    "        \n",
    "    if mode == \"q\":\n",
    "        quit();\n",
    "        break\n",
    "\n",
    "    elif mode == \"view\":\n",
    "        view()\n",
    "        break\n",
    "\n",
    "    elif mode == \"add\":\n",
    "        add()\n",
    "        continue\n",
    "\n",
    "    else: \n",
    "        print(\"invalid\")\n",
    "        continue\n",
    "\n"
   ]
  },
  {
   "cell_type": "code",
   "execution_count": null,
   "id": "966dd99b",
   "metadata": {},
   "outputs": [],
   "source": []
  }
 ],
 "metadata": {
  "kernelspec": {
   "display_name": "Python 3 (ipykernel)",
   "language": "python",
   "name": "python3"
  },
  "language_info": {
   "codemirror_mode": {
    "name": "ipython",
    "version": 3
   },
   "file_extension": ".py",
   "mimetype": "text/x-python",
   "name": "python",
   "nbconvert_exporter": "python",
   "pygments_lexer": "ipython3",
   "version": "3.10.9"
  }
 },
 "nbformat": 4,
 "nbformat_minor": 5
}
